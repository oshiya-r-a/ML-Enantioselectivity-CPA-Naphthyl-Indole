{
  "nbformat": 4,
  "nbformat_minor": 0,
  "metadata": {
    "colab": {
      "provenance": []
    },
    "kernelspec": {
      "name": "python3",
      "display_name": "Python 3"
    },
    "language_info": {
      "name": "python"
    }
  },
  "cells": [
    {
      "cell_type": "code",
      "execution_count": 1,
      "metadata": {
        "id": "nISiOTLCfaZ-"
      },
      "outputs": [],
      "source": [
        "import pandas as pd\n",
        "import numpy as np\n",
        "\n",
        "from sklearn.ensemble import RandomForestRegressor\n",
        "from sklearn.preprocessing import StandardScaler\n",
        "from sklearn.model_selection import train_test_split, GridSearchCV, LeaveOneOut, learning_curve\n",
        "from sklearn.metrics import r2_score, mean_squared_error, make_scorer\n",
        "\n",
        "import matplotlib.pyplot as plt\n",
        "%matplotlib inline\n",
        "import seaborn as sns\n",
        "\n",
        "import math\n",
        "from math import exp\n",
        "from scipy import stats\n",
        "\n",
        "import warnings\n",
        "warnings.filterwarnings('ignore')\n",
        "\n",
        "import joblib"
      ]
    },
    {
      "cell_type": "code",
      "source": [
        "data = pd.read_excel(\"/content/dataset.xlsx\")\n",
        "data.head()"
      ],
      "metadata": {
        "colab": {
          "base_uri": "https://localhost:8080/",
          "height": 255
        },
        "id": "1lUZmSmEftIb",
        "outputId": "7eadbb3d-545c-42c3-9376-dc1a3e9cc31b"
      },
      "execution_count": 2,
      "outputs": [
        {
          "output_type": "execute_result",
          "data": {
            "text/plain": [
              "      ID Reaction  %ee  ddG_exp_value    d.BL1    d.BL2    d.BL3    d.BL4  \\\n",
              "0  R0004      aa1   64       0.909808  0.78279  0.01504  0.00500  0.57663   \n",
              "1  R0005      aa2   86       1.552014  0.81500  0.04768  0.08226 -0.19524   \n",
              "2  R0006      aa3   87       1.599696 -0.05567  0.01224  0.06187 -1.57136   \n",
              "3  R0007      aa4   96       2.335092  0.76173  0.04037  0.06304 -1.52496   \n",
              "4  R0008      aa5   96       2.335092  1.65383  0.03142  0.00520  0.00633   \n",
              "\n",
              "        d.D1      d.D2  ...  CPA_B5(Bmax)  CPA_L     d(BE)  Traceless_QM  \\\n",
              "0 -176.61232  23.52332  ...          3.27    8.5  0.005408       -5.3209   \n",
              "1 -172.79376  23.72889  ...          7.04    8.2  0.006525       -8.1108   \n",
              "2 -177.04393   0.61468  ...          5.69    6.6  0.009486       -7.5545   \n",
              "3 -171.20815   2.32143  ...          5.69    6.5  0.007321      -10.4128   \n",
              "4 -178.71876   8.31042  ...          5.71    8.5  0.006261      -10.4281   \n",
              "\n",
              "   A.Nitroso  A.Indole    A.CPA  V.Nitroso  V.Indole    V.CPA  \n",
              "0    168.272   211.301  538.661     137.47   168.718  466.146  \n",
              "1    168.272   211.301  791.973     137.47   168.718  694.528  \n",
              "2    168.272   211.301  566.192     137.47   168.718  503.718  \n",
              "3    168.272   211.301  654.560     137.47   168.718  588.947  \n",
              "4    168.272   211.301  655.490     137.47   168.718  588.843  \n",
              "\n",
              "[5 rows x 30 columns]"
            ],
            "text/html": [
              "\n",
              "  <div id=\"df-5e3ced7e-174f-4b75-91f5-f6f0f5db0d14\" class=\"colab-df-container\">\n",
              "    <div>\n",
              "<style scoped>\n",
              "    .dataframe tbody tr th:only-of-type {\n",
              "        vertical-align: middle;\n",
              "    }\n",
              "\n",
              "    .dataframe tbody tr th {\n",
              "        vertical-align: top;\n",
              "    }\n",
              "\n",
              "    .dataframe thead th {\n",
              "        text-align: right;\n",
              "    }\n",
              "</style>\n",
              "<table border=\"1\" class=\"dataframe\">\n",
              "  <thead>\n",
              "    <tr style=\"text-align: right;\">\n",
              "      <th></th>\n",
              "      <th>ID</th>\n",
              "      <th>Reaction</th>\n",
              "      <th>%ee</th>\n",
              "      <th>ddG_exp_value</th>\n",
              "      <th>d.BL1</th>\n",
              "      <th>d.BL2</th>\n",
              "      <th>d.BL3</th>\n",
              "      <th>d.BL4</th>\n",
              "      <th>d.D1</th>\n",
              "      <th>d.D2</th>\n",
              "      <th>...</th>\n",
              "      <th>CPA_B5(Bmax)</th>\n",
              "      <th>CPA_L</th>\n",
              "      <th>d(BE)</th>\n",
              "      <th>Traceless_QM</th>\n",
              "      <th>A.Nitroso</th>\n",
              "      <th>A.Indole</th>\n",
              "      <th>A.CPA</th>\n",
              "      <th>V.Nitroso</th>\n",
              "      <th>V.Indole</th>\n",
              "      <th>V.CPA</th>\n",
              "    </tr>\n",
              "  </thead>\n",
              "  <tbody>\n",
              "    <tr>\n",
              "      <th>0</th>\n",
              "      <td>R0004</td>\n",
              "      <td>aa1</td>\n",
              "      <td>64</td>\n",
              "      <td>0.909808</td>\n",
              "      <td>0.78279</td>\n",
              "      <td>0.01504</td>\n",
              "      <td>0.00500</td>\n",
              "      <td>0.57663</td>\n",
              "      <td>-176.61232</td>\n",
              "      <td>23.52332</td>\n",
              "      <td>...</td>\n",
              "      <td>3.27</td>\n",
              "      <td>8.5</td>\n",
              "      <td>0.005408</td>\n",
              "      <td>-5.3209</td>\n",
              "      <td>168.272</td>\n",
              "      <td>211.301</td>\n",
              "      <td>538.661</td>\n",
              "      <td>137.47</td>\n",
              "      <td>168.718</td>\n",
              "      <td>466.146</td>\n",
              "    </tr>\n",
              "    <tr>\n",
              "      <th>1</th>\n",
              "      <td>R0005</td>\n",
              "      <td>aa2</td>\n",
              "      <td>86</td>\n",
              "      <td>1.552014</td>\n",
              "      <td>0.81500</td>\n",
              "      <td>0.04768</td>\n",
              "      <td>0.08226</td>\n",
              "      <td>-0.19524</td>\n",
              "      <td>-172.79376</td>\n",
              "      <td>23.72889</td>\n",
              "      <td>...</td>\n",
              "      <td>7.04</td>\n",
              "      <td>8.2</td>\n",
              "      <td>0.006525</td>\n",
              "      <td>-8.1108</td>\n",
              "      <td>168.272</td>\n",
              "      <td>211.301</td>\n",
              "      <td>791.973</td>\n",
              "      <td>137.47</td>\n",
              "      <td>168.718</td>\n",
              "      <td>694.528</td>\n",
              "    </tr>\n",
              "    <tr>\n",
              "      <th>2</th>\n",
              "      <td>R0006</td>\n",
              "      <td>aa3</td>\n",
              "      <td>87</td>\n",
              "      <td>1.599696</td>\n",
              "      <td>-0.05567</td>\n",
              "      <td>0.01224</td>\n",
              "      <td>0.06187</td>\n",
              "      <td>-1.57136</td>\n",
              "      <td>-177.04393</td>\n",
              "      <td>0.61468</td>\n",
              "      <td>...</td>\n",
              "      <td>5.69</td>\n",
              "      <td>6.6</td>\n",
              "      <td>0.009486</td>\n",
              "      <td>-7.5545</td>\n",
              "      <td>168.272</td>\n",
              "      <td>211.301</td>\n",
              "      <td>566.192</td>\n",
              "      <td>137.47</td>\n",
              "      <td>168.718</td>\n",
              "      <td>503.718</td>\n",
              "    </tr>\n",
              "    <tr>\n",
              "      <th>3</th>\n",
              "      <td>R0007</td>\n",
              "      <td>aa4</td>\n",
              "      <td>96</td>\n",
              "      <td>2.335092</td>\n",
              "      <td>0.76173</td>\n",
              "      <td>0.04037</td>\n",
              "      <td>0.06304</td>\n",
              "      <td>-1.52496</td>\n",
              "      <td>-171.20815</td>\n",
              "      <td>2.32143</td>\n",
              "      <td>...</td>\n",
              "      <td>5.69</td>\n",
              "      <td>6.5</td>\n",
              "      <td>0.007321</td>\n",
              "      <td>-10.4128</td>\n",
              "      <td>168.272</td>\n",
              "      <td>211.301</td>\n",
              "      <td>654.560</td>\n",
              "      <td>137.47</td>\n",
              "      <td>168.718</td>\n",
              "      <td>588.947</td>\n",
              "    </tr>\n",
              "    <tr>\n",
              "      <th>4</th>\n",
              "      <td>R0008</td>\n",
              "      <td>aa5</td>\n",
              "      <td>96</td>\n",
              "      <td>2.335092</td>\n",
              "      <td>1.65383</td>\n",
              "      <td>0.03142</td>\n",
              "      <td>0.00520</td>\n",
              "      <td>0.00633</td>\n",
              "      <td>-178.71876</td>\n",
              "      <td>8.31042</td>\n",
              "      <td>...</td>\n",
              "      <td>5.71</td>\n",
              "      <td>8.5</td>\n",
              "      <td>0.006261</td>\n",
              "      <td>-10.4281</td>\n",
              "      <td>168.272</td>\n",
              "      <td>211.301</td>\n",
              "      <td>655.490</td>\n",
              "      <td>137.47</td>\n",
              "      <td>168.718</td>\n",
              "      <td>588.843</td>\n",
              "    </tr>\n",
              "  </tbody>\n",
              "</table>\n",
              "<p>5 rows × 30 columns</p>\n",
              "</div>\n",
              "    <div class=\"colab-df-buttons\">\n",
              "\n",
              "  <div class=\"colab-df-container\">\n",
              "    <button class=\"colab-df-convert\" onclick=\"convertToInteractive('df-5e3ced7e-174f-4b75-91f5-f6f0f5db0d14')\"\n",
              "            title=\"Convert this dataframe to an interactive table.\"\n",
              "            style=\"display:none;\">\n",
              "\n",
              "  <svg xmlns=\"http://www.w3.org/2000/svg\" height=\"24px\" viewBox=\"0 -960 960 960\">\n",
              "    <path d=\"M120-120v-720h720v720H120Zm60-500h600v-160H180v160Zm220 220h160v-160H400v160Zm0 220h160v-160H400v160ZM180-400h160v-160H180v160Zm440 0h160v-160H620v160ZM180-180h160v-160H180v160Zm440 0h160v-160H620v160Z\"/>\n",
              "  </svg>\n",
              "    </button>\n",
              "\n",
              "  <style>\n",
              "    .colab-df-container {\n",
              "      display:flex;\n",
              "      gap: 12px;\n",
              "    }\n",
              "\n",
              "    .colab-df-convert {\n",
              "      background-color: #E8F0FE;\n",
              "      border: none;\n",
              "      border-radius: 50%;\n",
              "      cursor: pointer;\n",
              "      display: none;\n",
              "      fill: #1967D2;\n",
              "      height: 32px;\n",
              "      padding: 0 0 0 0;\n",
              "      width: 32px;\n",
              "    }\n",
              "\n",
              "    .colab-df-convert:hover {\n",
              "      background-color: #E2EBFA;\n",
              "      box-shadow: 0px 1px 2px rgba(60, 64, 67, 0.3), 0px 1px 3px 1px rgba(60, 64, 67, 0.15);\n",
              "      fill: #174EA6;\n",
              "    }\n",
              "\n",
              "    .colab-df-buttons div {\n",
              "      margin-bottom: 4px;\n",
              "    }\n",
              "\n",
              "    [theme=dark] .colab-df-convert {\n",
              "      background-color: #3B4455;\n",
              "      fill: #D2E3FC;\n",
              "    }\n",
              "\n",
              "    [theme=dark] .colab-df-convert:hover {\n",
              "      background-color: #434B5C;\n",
              "      box-shadow: 0px 1px 3px 1px rgba(0, 0, 0, 0.15);\n",
              "      filter: drop-shadow(0px 1px 2px rgba(0, 0, 0, 0.3));\n",
              "      fill: #FFFFFF;\n",
              "    }\n",
              "  </style>\n",
              "\n",
              "    <script>\n",
              "      const buttonEl =\n",
              "        document.querySelector('#df-5e3ced7e-174f-4b75-91f5-f6f0f5db0d14 button.colab-df-convert');\n",
              "      buttonEl.style.display =\n",
              "        google.colab.kernel.accessAllowed ? 'block' : 'none';\n",
              "\n",
              "      async function convertToInteractive(key) {\n",
              "        const element = document.querySelector('#df-5e3ced7e-174f-4b75-91f5-f6f0f5db0d14');\n",
              "        const dataTable =\n",
              "          await google.colab.kernel.invokeFunction('convertToInteractive',\n",
              "                                                    [key], {});\n",
              "        if (!dataTable) return;\n",
              "\n",
              "        const docLinkHtml = 'Like what you see? Visit the ' +\n",
              "          '<a target=\"_blank\" href=https://colab.research.google.com/notebooks/data_table.ipynb>data table notebook</a>'\n",
              "          + ' to learn more about interactive tables.';\n",
              "        element.innerHTML = '';\n",
              "        dataTable['output_type'] = 'display_data';\n",
              "        await google.colab.output.renderOutput(dataTable, element);\n",
              "        const docLink = document.createElement('div');\n",
              "        docLink.innerHTML = docLinkHtml;\n",
              "        element.appendChild(docLink);\n",
              "      }\n",
              "    </script>\n",
              "  </div>\n",
              "\n",
              "\n",
              "<div id=\"df-a1a6eaf0-e248-4c6d-b2b9-cd3fb0ee8d98\">\n",
              "  <button class=\"colab-df-quickchart\" onclick=\"quickchart('df-a1a6eaf0-e248-4c6d-b2b9-cd3fb0ee8d98')\"\n",
              "            title=\"Suggest charts\"\n",
              "            style=\"display:none;\">\n",
              "\n",
              "<svg xmlns=\"http://www.w3.org/2000/svg\" height=\"24px\"viewBox=\"0 0 24 24\"\n",
              "     width=\"24px\">\n",
              "    <g>\n",
              "        <path d=\"M19 3H5c-1.1 0-2 .9-2 2v14c0 1.1.9 2 2 2h14c1.1 0 2-.9 2-2V5c0-1.1-.9-2-2-2zM9 17H7v-7h2v7zm4 0h-2V7h2v10zm4 0h-2v-4h2v4z\"/>\n",
              "    </g>\n",
              "</svg>\n",
              "  </button>\n",
              "\n",
              "<style>\n",
              "  .colab-df-quickchart {\n",
              "      --bg-color: #E8F0FE;\n",
              "      --fill-color: #1967D2;\n",
              "      --hover-bg-color: #E2EBFA;\n",
              "      --hover-fill-color: #174EA6;\n",
              "      --disabled-fill-color: #AAA;\n",
              "      --disabled-bg-color: #DDD;\n",
              "  }\n",
              "\n",
              "  [theme=dark] .colab-df-quickchart {\n",
              "      --bg-color: #3B4455;\n",
              "      --fill-color: #D2E3FC;\n",
              "      --hover-bg-color: #434B5C;\n",
              "      --hover-fill-color: #FFFFFF;\n",
              "      --disabled-bg-color: #3B4455;\n",
              "      --disabled-fill-color: #666;\n",
              "  }\n",
              "\n",
              "  .colab-df-quickchart {\n",
              "    background-color: var(--bg-color);\n",
              "    border: none;\n",
              "    border-radius: 50%;\n",
              "    cursor: pointer;\n",
              "    display: none;\n",
              "    fill: var(--fill-color);\n",
              "    height: 32px;\n",
              "    padding: 0;\n",
              "    width: 32px;\n",
              "  }\n",
              "\n",
              "  .colab-df-quickchart:hover {\n",
              "    background-color: var(--hover-bg-color);\n",
              "    box-shadow: 0 1px 2px rgba(60, 64, 67, 0.3), 0 1px 3px 1px rgba(60, 64, 67, 0.15);\n",
              "    fill: var(--button-hover-fill-color);\n",
              "  }\n",
              "\n",
              "  .colab-df-quickchart-complete:disabled,\n",
              "  .colab-df-quickchart-complete:disabled:hover {\n",
              "    background-color: var(--disabled-bg-color);\n",
              "    fill: var(--disabled-fill-color);\n",
              "    box-shadow: none;\n",
              "  }\n",
              "\n",
              "  .colab-df-spinner {\n",
              "    border: 2px solid var(--fill-color);\n",
              "    border-color: transparent;\n",
              "    border-bottom-color: var(--fill-color);\n",
              "    animation:\n",
              "      spin 1s steps(1) infinite;\n",
              "  }\n",
              "\n",
              "  @keyframes spin {\n",
              "    0% {\n",
              "      border-color: transparent;\n",
              "      border-bottom-color: var(--fill-color);\n",
              "      border-left-color: var(--fill-color);\n",
              "    }\n",
              "    20% {\n",
              "      border-color: transparent;\n",
              "      border-left-color: var(--fill-color);\n",
              "      border-top-color: var(--fill-color);\n",
              "    }\n",
              "    30% {\n",
              "      border-color: transparent;\n",
              "      border-left-color: var(--fill-color);\n",
              "      border-top-color: var(--fill-color);\n",
              "      border-right-color: var(--fill-color);\n",
              "    }\n",
              "    40% {\n",
              "      border-color: transparent;\n",
              "      border-right-color: var(--fill-color);\n",
              "      border-top-color: var(--fill-color);\n",
              "    }\n",
              "    60% {\n",
              "      border-color: transparent;\n",
              "      border-right-color: var(--fill-color);\n",
              "    }\n",
              "    80% {\n",
              "      border-color: transparent;\n",
              "      border-right-color: var(--fill-color);\n",
              "      border-bottom-color: var(--fill-color);\n",
              "    }\n",
              "    90% {\n",
              "      border-color: transparent;\n",
              "      border-bottom-color: var(--fill-color);\n",
              "    }\n",
              "  }\n",
              "</style>\n",
              "\n",
              "  <script>\n",
              "    async function quickchart(key) {\n",
              "      const quickchartButtonEl =\n",
              "        document.querySelector('#' + key + ' button');\n",
              "      quickchartButtonEl.disabled = true;  // To prevent multiple clicks.\n",
              "      quickchartButtonEl.classList.add('colab-df-spinner');\n",
              "      try {\n",
              "        const charts = await google.colab.kernel.invokeFunction(\n",
              "            'suggestCharts', [key], {});\n",
              "      } catch (error) {\n",
              "        console.error('Error during call to suggestCharts:', error);\n",
              "      }\n",
              "      quickchartButtonEl.classList.remove('colab-df-spinner');\n",
              "      quickchartButtonEl.classList.add('colab-df-quickchart-complete');\n",
              "    }\n",
              "    (() => {\n",
              "      let quickchartButtonEl =\n",
              "        document.querySelector('#df-a1a6eaf0-e248-4c6d-b2b9-cd3fb0ee8d98 button');\n",
              "      quickchartButtonEl.style.display =\n",
              "        google.colab.kernel.accessAllowed ? 'block' : 'none';\n",
              "    })();\n",
              "  </script>\n",
              "</div>\n",
              "\n",
              "    </div>\n",
              "  </div>\n"
            ],
            "application/vnd.google.colaboratory.intrinsic+json": {
              "type": "dataframe",
              "variable_name": "data"
            }
          },
          "metadata": {},
          "execution_count": 2
        }
      ]
    },
    {
      "cell_type": "code",
      "source": [
        "data1 = data.drop(['ID', 'Reaction','%ee'], axis=1)\n",
        "data2 = data1.dropna()\n",
        "print(\"Number of rows:\",len(data2))\n",
        "print(\"Number of columns:\",len(data2.columns))"
      ],
      "metadata": {
        "colab": {
          "base_uri": "https://localhost:8080/"
        },
        "id": "XENDZ-sFf-5Y",
        "outputId": "50c557c2-58cd-469c-8993-f6ab768a84be"
      },
      "execution_count": 3,
      "outputs": [
        {
          "output_type": "stream",
          "name": "stdout",
          "text": [
            "Number of rows: 41\n",
            "Number of columns: 27\n"
          ]
        }
      ]
    },
    {
      "cell_type": "code",
      "source": [
        "cor = data2.corr()"
      ],
      "metadata": {
        "id": "YF45l4pngDZQ"
      },
      "execution_count": 4,
      "outputs": []
    },
    {
      "cell_type": "code",
      "source": [
        "target_cor = cor['ddG_exp_value']\n",
        "less_correlated_features = target_cor[abs(target_cor)<0.15].index\n",
        "data2 = data2.drop(less_correlated_features, axis=1)"
      ],
      "metadata": {
        "id": "tG67ebp0gFL4"
      },
      "execution_count": 5,
      "outputs": []
    },
    {
      "cell_type": "code",
      "source": [
        "less_correlated_features"
      ],
      "metadata": {
        "colab": {
          "base_uri": "https://localhost:8080/"
        },
        "id": "HVjoz2F0gGEf",
        "outputId": "ebea4ef2-694f-40d4-97f4-f508acb06ceb"
      },
      "execution_count": 6,
      "outputs": [
        {
          "output_type": "execute_result",
          "data": {
            "text/plain": [
              "Index(['DM rc_minor', 'A.Indole', 'A.CPA', 'V.Indole'], dtype='object')"
            ]
          },
          "metadata": {},
          "execution_count": 6
        }
      ]
    },
    {
      "cell_type": "code",
      "source": [
        "X = data2.drop(\"ddG_exp_value\", axis=1)\n",
        "y = data2[['ddG_exp_value']]"
      ],
      "metadata": {
        "id": "7pABqVlIgHov"
      },
      "execution_count": 7,
      "outputs": []
    },
    {
      "cell_type": "code",
      "source": [
        "scaler = StandardScaler()\n",
        "X_norm = scaler.fit_transform(X)"
      ],
      "metadata": {
        "id": "JTV9EbXLgJ6n"
      },
      "execution_count": 8,
      "outputs": []
    },
    {
      "cell_type": "code",
      "source": [
        "joblib.dump(scaler, 'scaler.joblib')"
      ],
      "metadata": {
        "colab": {
          "base_uri": "https://localhost:8080/"
        },
        "id": "2i5FDLGXgLsv",
        "outputId": "6e3bd011-bc76-4d06-b0a8-b6aa05664ef6"
      },
      "execution_count": 9,
      "outputs": [
        {
          "output_type": "execute_result",
          "data": {
            "text/plain": [
              "['scaler.joblib']"
            ]
          },
          "metadata": {},
          "execution_count": 9
        }
      ]
    },
    {
      "cell_type": "code",
      "source": [
        "X_norm = pd.DataFrame(X_norm, columns=X.columns)\n",
        "X_norm.head()"
      ],
      "metadata": {
        "colab": {
          "base_uri": "https://localhost:8080/",
          "height": 273
        },
        "id": "PZkZpYC7gMS4",
        "outputId": "c95c3139-48d7-41a2-81bc-b4c851ee5d24"
      },
      "execution_count": 10,
      "outputs": [
        {
          "output_type": "execute_result",
          "data": {
            "text/plain": [
              "      d.BL1     d.BL2     d.BL3     d.BL4      d.D1      d.D2  N1 rc_major  \\\n",
              "0 -0.320906 -1.400706 -1.290742  1.794011 -0.834568  1.401557    -2.999337   \n",
              "1 -0.284067  0.515334  0.983639  0.743141  0.612325  1.421681    -1.225034   \n",
              "2 -1.279874 -1.565072  0.383398 -1.130390 -0.998109 -0.840972     0.549268   \n",
              "3 -0.344993  0.086221  0.417840 -1.067218  1.213129 -0.673898     0.822238   \n",
              "4  0.675324 -0.439164 -1.284855  1.017571 -1.632720 -0.087635     1.368177   \n",
              "\n",
              "   N1 rc_minor    I1 rc_major  I1 rc_minor  ...  P rc_major  P rc_minor  \\\n",
              "0     -0.937019 -1.011412e-01    -1.528122  ...   -2.975635   -2.902272   \n",
              "1      1.245809 -1.011412e-01    -0.046964  ...    1.004488    0.957757   \n",
              "2     -0.937019  1.011412e-01    -0.195079  ...   -2.152556   -2.184462   \n",
              "3     -0.282170 -1.415977e+00    -0.195079  ...   -0.495035   -0.469923   \n",
              "4      0.590961  5.614464e-15    -2.268701  ...   -0.519488   -0.503408   \n",
              "\n",
              "   CPA_B1(Bmin)  CPA_B5(Bmax)     CPA_L     d(BE)  Traceless_QM  A.Nitroso  \\\n",
              "0     -0.381026     -3.107771  1.548997 -0.294427      1.674293  -0.518863   \n",
              "1      1.441102      1.947140  1.233817  0.364866      0.459359  -0.518863   \n",
              "2     -0.461414      0.137026 -0.447146  2.112554      0.701614  -0.518863   \n",
              "3     -0.434618      0.137026 -0.552207  0.834694     -0.543106  -0.518863   \n",
              "4     -0.381026      0.163842  1.548997  0.209044     -0.549769  -0.518863   \n",
              "\n",
              "   V.Nitroso     V.CPA  \n",
              "0  -0.510977 -2.611899  \n",
              "1  -0.510977  2.123089  \n",
              "2  -0.510977 -1.832928  \n",
              "3  -0.510977 -0.065896  \n",
              "4  -0.510977 -0.068052  \n",
              "\n",
              "[5 rows x 22 columns]"
            ],
            "text/html": [
              "\n",
              "  <div id=\"df-dd816557-dc83-4edc-973d-9791ea06125e\" class=\"colab-df-container\">\n",
              "    <div>\n",
              "<style scoped>\n",
              "    .dataframe tbody tr th:only-of-type {\n",
              "        vertical-align: middle;\n",
              "    }\n",
              "\n",
              "    .dataframe tbody tr th {\n",
              "        vertical-align: top;\n",
              "    }\n",
              "\n",
              "    .dataframe thead th {\n",
              "        text-align: right;\n",
              "    }\n",
              "</style>\n",
              "<table border=\"1\" class=\"dataframe\">\n",
              "  <thead>\n",
              "    <tr style=\"text-align: right;\">\n",
              "      <th></th>\n",
              "      <th>d.BL1</th>\n",
              "      <th>d.BL2</th>\n",
              "      <th>d.BL3</th>\n",
              "      <th>d.BL4</th>\n",
              "      <th>d.D1</th>\n",
              "      <th>d.D2</th>\n",
              "      <th>N1 rc_major</th>\n",
              "      <th>N1 rc_minor</th>\n",
              "      <th>I1 rc_major</th>\n",
              "      <th>I1 rc_minor</th>\n",
              "      <th>...</th>\n",
              "      <th>P rc_major</th>\n",
              "      <th>P rc_minor</th>\n",
              "      <th>CPA_B1(Bmin)</th>\n",
              "      <th>CPA_B5(Bmax)</th>\n",
              "      <th>CPA_L</th>\n",
              "      <th>d(BE)</th>\n",
              "      <th>Traceless_QM</th>\n",
              "      <th>A.Nitroso</th>\n",
              "      <th>V.Nitroso</th>\n",
              "      <th>V.CPA</th>\n",
              "    </tr>\n",
              "  </thead>\n",
              "  <tbody>\n",
              "    <tr>\n",
              "      <th>0</th>\n",
              "      <td>-0.320906</td>\n",
              "      <td>-1.400706</td>\n",
              "      <td>-1.290742</td>\n",
              "      <td>1.794011</td>\n",
              "      <td>-0.834568</td>\n",
              "      <td>1.401557</td>\n",
              "      <td>-2.999337</td>\n",
              "      <td>-0.937019</td>\n",
              "      <td>-1.011412e-01</td>\n",
              "      <td>-1.528122</td>\n",
              "      <td>...</td>\n",
              "      <td>-2.975635</td>\n",
              "      <td>-2.902272</td>\n",
              "      <td>-0.381026</td>\n",
              "      <td>-3.107771</td>\n",
              "      <td>1.548997</td>\n",
              "      <td>-0.294427</td>\n",
              "      <td>1.674293</td>\n",
              "      <td>-0.518863</td>\n",
              "      <td>-0.510977</td>\n",
              "      <td>-2.611899</td>\n",
              "    </tr>\n",
              "    <tr>\n",
              "      <th>1</th>\n",
              "      <td>-0.284067</td>\n",
              "      <td>0.515334</td>\n",
              "      <td>0.983639</td>\n",
              "      <td>0.743141</td>\n",
              "      <td>0.612325</td>\n",
              "      <td>1.421681</td>\n",
              "      <td>-1.225034</td>\n",
              "      <td>1.245809</td>\n",
              "      <td>-1.011412e-01</td>\n",
              "      <td>-0.046964</td>\n",
              "      <td>...</td>\n",
              "      <td>1.004488</td>\n",
              "      <td>0.957757</td>\n",
              "      <td>1.441102</td>\n",
              "      <td>1.947140</td>\n",
              "      <td>1.233817</td>\n",
              "      <td>0.364866</td>\n",
              "      <td>0.459359</td>\n",
              "      <td>-0.518863</td>\n",
              "      <td>-0.510977</td>\n",
              "      <td>2.123089</td>\n",
              "    </tr>\n",
              "    <tr>\n",
              "      <th>2</th>\n",
              "      <td>-1.279874</td>\n",
              "      <td>-1.565072</td>\n",
              "      <td>0.383398</td>\n",
              "      <td>-1.130390</td>\n",
              "      <td>-0.998109</td>\n",
              "      <td>-0.840972</td>\n",
              "      <td>0.549268</td>\n",
              "      <td>-0.937019</td>\n",
              "      <td>1.011412e-01</td>\n",
              "      <td>-0.195079</td>\n",
              "      <td>...</td>\n",
              "      <td>-2.152556</td>\n",
              "      <td>-2.184462</td>\n",
              "      <td>-0.461414</td>\n",
              "      <td>0.137026</td>\n",
              "      <td>-0.447146</td>\n",
              "      <td>2.112554</td>\n",
              "      <td>0.701614</td>\n",
              "      <td>-0.518863</td>\n",
              "      <td>-0.510977</td>\n",
              "      <td>-1.832928</td>\n",
              "    </tr>\n",
              "    <tr>\n",
              "      <th>3</th>\n",
              "      <td>-0.344993</td>\n",
              "      <td>0.086221</td>\n",
              "      <td>0.417840</td>\n",
              "      <td>-1.067218</td>\n",
              "      <td>1.213129</td>\n",
              "      <td>-0.673898</td>\n",
              "      <td>0.822238</td>\n",
              "      <td>-0.282170</td>\n",
              "      <td>-1.415977e+00</td>\n",
              "      <td>-0.195079</td>\n",
              "      <td>...</td>\n",
              "      <td>-0.495035</td>\n",
              "      <td>-0.469923</td>\n",
              "      <td>-0.434618</td>\n",
              "      <td>0.137026</td>\n",
              "      <td>-0.552207</td>\n",
              "      <td>0.834694</td>\n",
              "      <td>-0.543106</td>\n",
              "      <td>-0.518863</td>\n",
              "      <td>-0.510977</td>\n",
              "      <td>-0.065896</td>\n",
              "    </tr>\n",
              "    <tr>\n",
              "      <th>4</th>\n",
              "      <td>0.675324</td>\n",
              "      <td>-0.439164</td>\n",
              "      <td>-1.284855</td>\n",
              "      <td>1.017571</td>\n",
              "      <td>-1.632720</td>\n",
              "      <td>-0.087635</td>\n",
              "      <td>1.368177</td>\n",
              "      <td>0.590961</td>\n",
              "      <td>5.614464e-15</td>\n",
              "      <td>-2.268701</td>\n",
              "      <td>...</td>\n",
              "      <td>-0.519488</td>\n",
              "      <td>-0.503408</td>\n",
              "      <td>-0.381026</td>\n",
              "      <td>0.163842</td>\n",
              "      <td>1.548997</td>\n",
              "      <td>0.209044</td>\n",
              "      <td>-0.549769</td>\n",
              "      <td>-0.518863</td>\n",
              "      <td>-0.510977</td>\n",
              "      <td>-0.068052</td>\n",
              "    </tr>\n",
              "  </tbody>\n",
              "</table>\n",
              "<p>5 rows × 22 columns</p>\n",
              "</div>\n",
              "    <div class=\"colab-df-buttons\">\n",
              "\n",
              "  <div class=\"colab-df-container\">\n",
              "    <button class=\"colab-df-convert\" onclick=\"convertToInteractive('df-dd816557-dc83-4edc-973d-9791ea06125e')\"\n",
              "            title=\"Convert this dataframe to an interactive table.\"\n",
              "            style=\"display:none;\">\n",
              "\n",
              "  <svg xmlns=\"http://www.w3.org/2000/svg\" height=\"24px\" viewBox=\"0 -960 960 960\">\n",
              "    <path d=\"M120-120v-720h720v720H120Zm60-500h600v-160H180v160Zm220 220h160v-160H400v160Zm0 220h160v-160H400v160ZM180-400h160v-160H180v160Zm440 0h160v-160H620v160ZM180-180h160v-160H180v160Zm440 0h160v-160H620v160Z\"/>\n",
              "  </svg>\n",
              "    </button>\n",
              "\n",
              "  <style>\n",
              "    .colab-df-container {\n",
              "      display:flex;\n",
              "      gap: 12px;\n",
              "    }\n",
              "\n",
              "    .colab-df-convert {\n",
              "      background-color: #E8F0FE;\n",
              "      border: none;\n",
              "      border-radius: 50%;\n",
              "      cursor: pointer;\n",
              "      display: none;\n",
              "      fill: #1967D2;\n",
              "      height: 32px;\n",
              "      padding: 0 0 0 0;\n",
              "      width: 32px;\n",
              "    }\n",
              "\n",
              "    .colab-df-convert:hover {\n",
              "      background-color: #E2EBFA;\n",
              "      box-shadow: 0px 1px 2px rgba(60, 64, 67, 0.3), 0px 1px 3px 1px rgba(60, 64, 67, 0.15);\n",
              "      fill: #174EA6;\n",
              "    }\n",
              "\n",
              "    .colab-df-buttons div {\n",
              "      margin-bottom: 4px;\n",
              "    }\n",
              "\n",
              "    [theme=dark] .colab-df-convert {\n",
              "      background-color: #3B4455;\n",
              "      fill: #D2E3FC;\n",
              "    }\n",
              "\n",
              "    [theme=dark] .colab-df-convert:hover {\n",
              "      background-color: #434B5C;\n",
              "      box-shadow: 0px 1px 3px 1px rgba(0, 0, 0, 0.15);\n",
              "      filter: drop-shadow(0px 1px 2px rgba(0, 0, 0, 0.3));\n",
              "      fill: #FFFFFF;\n",
              "    }\n",
              "  </style>\n",
              "\n",
              "    <script>\n",
              "      const buttonEl =\n",
              "        document.querySelector('#df-dd816557-dc83-4edc-973d-9791ea06125e button.colab-df-convert');\n",
              "      buttonEl.style.display =\n",
              "        google.colab.kernel.accessAllowed ? 'block' : 'none';\n",
              "\n",
              "      async function convertToInteractive(key) {\n",
              "        const element = document.querySelector('#df-dd816557-dc83-4edc-973d-9791ea06125e');\n",
              "        const dataTable =\n",
              "          await google.colab.kernel.invokeFunction('convertToInteractive',\n",
              "                                                    [key], {});\n",
              "        if (!dataTable) return;\n",
              "\n",
              "        const docLinkHtml = 'Like what you see? Visit the ' +\n",
              "          '<a target=\"_blank\" href=https://colab.research.google.com/notebooks/data_table.ipynb>data table notebook</a>'\n",
              "          + ' to learn more about interactive tables.';\n",
              "        element.innerHTML = '';\n",
              "        dataTable['output_type'] = 'display_data';\n",
              "        await google.colab.output.renderOutput(dataTable, element);\n",
              "        const docLink = document.createElement('div');\n",
              "        docLink.innerHTML = docLinkHtml;\n",
              "        element.appendChild(docLink);\n",
              "      }\n",
              "    </script>\n",
              "  </div>\n",
              "\n",
              "\n",
              "<div id=\"df-4f413d77-0850-4cdf-a53b-b1e1d9dec118\">\n",
              "  <button class=\"colab-df-quickchart\" onclick=\"quickchart('df-4f413d77-0850-4cdf-a53b-b1e1d9dec118')\"\n",
              "            title=\"Suggest charts\"\n",
              "            style=\"display:none;\">\n",
              "\n",
              "<svg xmlns=\"http://www.w3.org/2000/svg\" height=\"24px\"viewBox=\"0 0 24 24\"\n",
              "     width=\"24px\">\n",
              "    <g>\n",
              "        <path d=\"M19 3H5c-1.1 0-2 .9-2 2v14c0 1.1.9 2 2 2h14c1.1 0 2-.9 2-2V5c0-1.1-.9-2-2-2zM9 17H7v-7h2v7zm4 0h-2V7h2v10zm4 0h-2v-4h2v4z\"/>\n",
              "    </g>\n",
              "</svg>\n",
              "  </button>\n",
              "\n",
              "<style>\n",
              "  .colab-df-quickchart {\n",
              "      --bg-color: #E8F0FE;\n",
              "      --fill-color: #1967D2;\n",
              "      --hover-bg-color: #E2EBFA;\n",
              "      --hover-fill-color: #174EA6;\n",
              "      --disabled-fill-color: #AAA;\n",
              "      --disabled-bg-color: #DDD;\n",
              "  }\n",
              "\n",
              "  [theme=dark] .colab-df-quickchart {\n",
              "      --bg-color: #3B4455;\n",
              "      --fill-color: #D2E3FC;\n",
              "      --hover-bg-color: #434B5C;\n",
              "      --hover-fill-color: #FFFFFF;\n",
              "      --disabled-bg-color: #3B4455;\n",
              "      --disabled-fill-color: #666;\n",
              "  }\n",
              "\n",
              "  .colab-df-quickchart {\n",
              "    background-color: var(--bg-color);\n",
              "    border: none;\n",
              "    border-radius: 50%;\n",
              "    cursor: pointer;\n",
              "    display: none;\n",
              "    fill: var(--fill-color);\n",
              "    height: 32px;\n",
              "    padding: 0;\n",
              "    width: 32px;\n",
              "  }\n",
              "\n",
              "  .colab-df-quickchart:hover {\n",
              "    background-color: var(--hover-bg-color);\n",
              "    box-shadow: 0 1px 2px rgba(60, 64, 67, 0.3), 0 1px 3px 1px rgba(60, 64, 67, 0.15);\n",
              "    fill: var(--button-hover-fill-color);\n",
              "  }\n",
              "\n",
              "  .colab-df-quickchart-complete:disabled,\n",
              "  .colab-df-quickchart-complete:disabled:hover {\n",
              "    background-color: var(--disabled-bg-color);\n",
              "    fill: var(--disabled-fill-color);\n",
              "    box-shadow: none;\n",
              "  }\n",
              "\n",
              "  .colab-df-spinner {\n",
              "    border: 2px solid var(--fill-color);\n",
              "    border-color: transparent;\n",
              "    border-bottom-color: var(--fill-color);\n",
              "    animation:\n",
              "      spin 1s steps(1) infinite;\n",
              "  }\n",
              "\n",
              "  @keyframes spin {\n",
              "    0% {\n",
              "      border-color: transparent;\n",
              "      border-bottom-color: var(--fill-color);\n",
              "      border-left-color: var(--fill-color);\n",
              "    }\n",
              "    20% {\n",
              "      border-color: transparent;\n",
              "      border-left-color: var(--fill-color);\n",
              "      border-top-color: var(--fill-color);\n",
              "    }\n",
              "    30% {\n",
              "      border-color: transparent;\n",
              "      border-left-color: var(--fill-color);\n",
              "      border-top-color: var(--fill-color);\n",
              "      border-right-color: var(--fill-color);\n",
              "    }\n",
              "    40% {\n",
              "      border-color: transparent;\n",
              "      border-right-color: var(--fill-color);\n",
              "      border-top-color: var(--fill-color);\n",
              "    }\n",
              "    60% {\n",
              "      border-color: transparent;\n",
              "      border-right-color: var(--fill-color);\n",
              "    }\n",
              "    80% {\n",
              "      border-color: transparent;\n",
              "      border-right-color: var(--fill-color);\n",
              "      border-bottom-color: var(--fill-color);\n",
              "    }\n",
              "    90% {\n",
              "      border-color: transparent;\n",
              "      border-bottom-color: var(--fill-color);\n",
              "    }\n",
              "  }\n",
              "</style>\n",
              "\n",
              "  <script>\n",
              "    async function quickchart(key) {\n",
              "      const quickchartButtonEl =\n",
              "        document.querySelector('#' + key + ' button');\n",
              "      quickchartButtonEl.disabled = true;  // To prevent multiple clicks.\n",
              "      quickchartButtonEl.classList.add('colab-df-spinner');\n",
              "      try {\n",
              "        const charts = await google.colab.kernel.invokeFunction(\n",
              "            'suggestCharts', [key], {});\n",
              "      } catch (error) {\n",
              "        console.error('Error during call to suggestCharts:', error);\n",
              "      }\n",
              "      quickchartButtonEl.classList.remove('colab-df-spinner');\n",
              "      quickchartButtonEl.classList.add('colab-df-quickchart-complete');\n",
              "    }\n",
              "    (() => {\n",
              "      let quickchartButtonEl =\n",
              "        document.querySelector('#df-4f413d77-0850-4cdf-a53b-b1e1d9dec118 button');\n",
              "      quickchartButtonEl.style.display =\n",
              "        google.colab.kernel.accessAllowed ? 'block' : 'none';\n",
              "    })();\n",
              "  </script>\n",
              "</div>\n",
              "\n",
              "    </div>\n",
              "  </div>\n"
            ],
            "application/vnd.google.colaboratory.intrinsic+json": {
              "type": "dataframe",
              "variable_name": "X_norm"
            }
          },
          "metadata": {},
          "execution_count": 10
        }
      ]
    },
    {
      "cell_type": "code",
      "source": [
        "param_grid = {\n",
        "    'n_estimators': [50, 200, 250, 300],\n",
        "    'max_depth': [3, 5, 10],\n",
        "    'criterion': ['friedman_mse'],\n",
        "    'max_features': ['sqrt'],\n",
        "    'random_state': [95]\n",
        "}\n",
        "\n",
        "#Scoring function\n",
        "scorer = make_scorer(mean_squared_error, greater_is_better=False)\n",
        "\n",
        "\n",
        "X_train, X_test, y_train, y_test = train_test_split(X_norm, y, test_size=0.2, random_state=45)\n",
        "\n",
        "rfr = RandomForestRegressor()\n",
        "\n",
        "grid_search = GridSearchCV(estimator=rfr, param_grid=param_grid, scoring=scorer, cv=LeaveOneOut(), n_jobs=-1)\n",
        "grid_search.fit(X_train, y_train)\n",
        "\n",
        "best_params = grid_search.best_params_\n",
        "best_score = np.sqrt(-grid_search.best_score_)\n",
        "\n",
        "# Results\n",
        "print(\"Best parameters found by GridSearchCV:\", best_params)\n",
        "print(\"Best CV RMSE:\", best_score)"
      ],
      "metadata": {
        "colab": {
          "base_uri": "https://localhost:8080/"
        },
        "id": "CzZOhQBxgPNQ",
        "outputId": "140e8c29-7502-4f43-fea1-da188ce85328"
      },
      "execution_count": 11,
      "outputs": [
        {
          "output_type": "stream",
          "name": "stdout",
          "text": [
            "Best parameters found by GridSearchCV: {'criterion': 'friedman_mse', 'max_depth': 5, 'max_features': 'sqrt', 'n_estimators': 50, 'random_state': 95}\n",
            "Best CV RMSE: 0.6362144226142458\n"
          ]
        }
      ]
    },
    {
      "cell_type": "code",
      "source": [
        "best_rfr = RandomForestRegressor(**best_params)"
      ],
      "metadata": {
        "id": "-NL5kdfVgT3X"
      },
      "execution_count": 12,
      "outputs": []
    },
    {
      "cell_type": "code",
      "source": [
        "best_rfr.fit(X_train, y_train)\n",
        "\n",
        "# Predictions on train set\n",
        "y_train_pred = best_rfr.predict(X_train)\n",
        "train_rmse = np.sqrt(mean_squared_error(y_train, y_train_pred))\n",
        "train_r2 = r2_score(y_train, y_train_pred)\n",
        "\n",
        "# Predictions on test set\n",
        "y_test_pred = best_rfr.predict(X_test)\n",
        "test_rmse = np.sqrt(mean_squared_error(y_test, y_test_pred))\n",
        "test_r2 = r2_score(y_test, y_test_pred)\n",
        "\n",
        "# Print the results\n",
        "print(\"Training set RMSE: \", train_rmse)\n",
        "print(\"Training set R2 Score: \", train_r2)\n",
        "print(\"Test RMSE: \", test_rmse)\n",
        "print(\"Test R2 Score: \", test_r2)"
      ],
      "metadata": {
        "colab": {
          "base_uri": "https://localhost:8080/"
        },
        "id": "_mIffiG3gVM3",
        "outputId": "60e4eca1-f832-42eb-a811-b0da21bc216a"
      },
      "execution_count": 13,
      "outputs": [
        {
          "output_type": "stream",
          "name": "stdout",
          "text": [
            "Training set RMSE:  0.27566598250494573\n",
            "Training set R2 Score:  0.9205036586058706\n",
            "Test RMSE:  0.3210796383242386\n",
            "Test R2 Score:  0.8759015029373294\n"
          ]
        }
      ]
    },
    {
      "cell_type": "code",
      "source": [
        "xPlot = y_train\n",
        "yPlot = y_train_pred\n",
        "x1Plot = y_test\n",
        "y1Plot = y_test_pred\n",
        "\n",
        "fig = plt.figure(figsize=(6, 6))\n",
        "plt.scatter(xPlot, yPlot, color='red', label='Train Data')\n",
        "plt.plot(xPlot, xPlot, linestyle='--', color='black', label='y = x')\n",
        "plt.scatter(x1Plot, y1Plot, color='blue', label='Test Data')\n",
        "plt.xlabel('True ΔΔG', fontweight='bold', fontsize=14)\n",
        "plt.ylabel('Predicted ΔΔG', fontweight='bold', fontsize=14)\n",
        "plt.title('Random Forest Regression', fontweight='bold', fontsize=16)\n",
        "plt.xticks(fontsize=12, fontweight=\"bold\")\n",
        "plt.yticks(fontsize=12, fontweight=\"bold\")\n",
        "\n",
        "plt.legend()\n",
        "plt.show()"
      ],
      "metadata": {
        "colab": {
          "base_uri": "https://localhost:8080/",
          "height": 575
        },
        "id": "WVDzH3PGgZBX",
        "outputId": "bdbb0cf9-9ad7-4e7b-8a9e-a0407fa97ed6"
      },
      "execution_count": 14,
      "outputs": [
        {
          "output_type": "display_data",
          "data": {
            "text/plain": [
              "<Figure size 600x600 with 1 Axes>"
            ],
            "image/png": "[encoded data removed]"
          },
          "metadata": {}
        }
      ]
    },
    {
      "cell_type": "code",
      "source": [
        "train_sizes_lc, train_scores_lc, valid_scores_lc = learning_curve(best_rfr, X_train, y_train, train_sizes=np.linspace(0.1, 1.0, 10), cv=LeaveOneOut(), scoring='neg_mean_squared_error')\n",
        "train_scores_mean_lc = -np.mean(train_scores_lc, axis=1)\n",
        "valid_scores_mean_lc = -np.mean(valid_scores_lc, axis=1)\n",
        "\n",
        "sns.set(style=\"whitegrid\")\n",
        "sns.set_palette(\"bright\")\n",
        "\n",
        "plt.figure(figsize=(6, 4))\n",
        "plt.plot(train_sizes_lc, train_scores_mean_lc, label='Training', marker='o')\n",
        "plt.plot(train_sizes_lc, valid_scores_mean_lc, label='Validation', marker='o')\n",
        "plt.title('Random Forest Learning Curve', fontweight='bold', fontsize=14)\n",
        "plt.xlabel('Training Set Size', fontweight='bold', fontsize=14)\n",
        "plt.ylabel('Mean Squared Error', fontweight='bold', fontsize=14)\n",
        "plt.gca().grid(False)\n",
        "plt.legend()\n",
        "plt.show()"
      ],
      "metadata": {
        "colab": {
          "base_uri": "https://localhost:8080/",
          "height": 421
        },
        "id": "bJAcao2PggKA",
        "outputId": "19a780ba-8521-43b7-d2f7-23daf216ac0a"
      },
      "execution_count": 15,
      "outputs": [
        {
          "output_type": "display_data",
          "data": {
            "text/plain": [
              "<Figure size 600x400 with 1 Axes>"
            ],
            "image/png": "[encoded data removed]"
          },
          "metadata": {}
        }
      ]
    },
    {
      "cell_type": "code",
      "source": [
        "test_index = X_test.index\n",
        "true_ee = data.loc[test_index,'%ee']\n",
        "\n",
        "pred_ee = []\n",
        "m = len(y_test_pred)\n",
        "for i in range(0,m):\n",
        "  ee = -1*100*(1-exp(y_test_pred[i]/0.6))/(1+exp(y_test_pred[i]/0.6))\n",
        "  pred_ee.append(ee)"
      ],
      "metadata": {
        "id": "KFWZTbuMjMtn"
      },
      "execution_count": 16,
      "outputs": []
    },
    {
      "cell_type": "code",
      "source": [
        "train_index = X_train.index\n",
        "train_true_ee = data.loc[train_index,'%ee']\n",
        "\n",
        "train_pred_ee = []\n",
        "m = len(y_train_pred)\n",
        "for i in range(0,m):\n",
        "  ee = -1*100*(1-exp(y_train_pred[i]/0.6))/(1+exp(y_train_pred[i]/0.6))\n",
        "  train_pred_ee.append(ee)"
      ],
      "metadata": {
        "id": "j_K_MbDZjOWI"
      },
      "execution_count": 17,
      "outputs": []
    },
    {
      "cell_type": "code",
      "source": [
        "xPlot_ee = train_true_ee\n",
        "yPlot_ee = train_pred_ee\n",
        "x1Plot_ee = true_ee\n",
        "y1Plot_ee = pred_ee\n",
        "\n",
        "fig = plt.figure(figsize=(6, 6))\n",
        "plt.scatter(xPlot_ee, yPlot_ee, color='red', label='Train Data')  # train\n",
        "plt.scatter(x1Plot_ee, y1Plot_ee, color='blue', label='Test Data') #test\n",
        "plt.plot(xPlot_ee, xPlot_ee, linestyle='--', color='black', label='y = x')\n",
        "plt.xlabel('True %ee', fontweight='bold', fontsize=14)\n",
        "plt.ylabel('Predicted %ee', fontweight='bold', fontsize=14)\n",
        "plt.title('Random Forest Regression', fontweight='bold', fontsize=16)\n",
        "plt.xticks(fontsize=12, fontweight=\"bold\")\n",
        "plt.yticks(fontsize=12, fontweight=\"bold\")\n",
        "plt.gca().grid(False)\n",
        "plt.legend()\n",
        "plt.show()"
      ],
      "metadata": {
        "colab": {
          "base_uri": "https://localhost:8080/",
          "height": 579
        },
        "id": "Dl2CTyxFjUww",
        "outputId": "5bd4424b-54d8-4947-f7f3-adc55f90e258"
      },
      "execution_count": 18,
      "outputs": [
        {
          "output_type": "display_data",
          "data": {
            "text/plain": [
              "<Figure size 600x600 with 1 Axes>"
            ],
            "image/png": "[encoded data removed]"
          },
          "metadata": {}
        }
      ]
    },
    {
      "cell_type": "code",
      "source": [
        "rmse_ee_train = np.sqrt(mean_squared_error(train_true_ee, train_pred_ee))\n",
        "r2_ee_train = r2_score(train_true_ee, train_pred_ee)\n",
        "\n",
        "print(\"RMSE in %ee prediction (train_set): \", rmse_ee_train)\n",
        "print(\"R2 Score in %ee prediction (train_set):\", r2_ee_train)"
      ],
      "metadata": {
        "colab": {
          "base_uri": "https://localhost:8080/"
        },
        "id": "_eN2mU9HkWU4",
        "outputId": "e64a07ff-55ad-40ff-86f3-73d42364a690"
      },
      "execution_count": 19,
      "outputs": [
        {
          "output_type": "stream",
          "name": "stdout",
          "text": [
            "RMSE in %ee prediction (train_set):  15.637927279352901\n",
            "R2 Score in %ee prediction (train_set): 0.7758654801220557\n"
          ]
        }
      ]
    },
    {
      "cell_type": "code",
      "source": [
        "rmse_ee = np.sqrt(mean_squared_error(true_ee, pred_ee))\n",
        "r2_ee = r2_score(true_ee, pred_ee)\n",
        "\n",
        "print(\"RMSE in %ee prediction (testset): \", rmse_ee)\n",
        "print(\"R2 Score in %ee prediction (testset):\", r2_ee)"
      ],
      "metadata": {
        "colab": {
          "base_uri": "https://localhost:8080/"
        },
        "id": "bF7X00jlkX4Y",
        "outputId": "5f90f1c3-c794-49ef-cfb8-afe4bc6f17c4"
      },
      "execution_count": 20,
      "outputs": [
        {
          "output_type": "stream",
          "name": "stdout",
          "text": [
            "RMSE in %ee prediction (testset):  14.750687553862992\n",
            "R2 Score in %ee prediction (testset): 0.703755035160244\n"
          ]
        }
      ]
    },
    {
      "cell_type": "code",
      "source": [
        "importances = best_rfr.feature_importances_\n",
        "feature_names = X_train.columns\n",
        "sorted_indices = np.argsort(importances)[::-1]\n",
        "sorted_feature_names = [feature_names[i] for i in sorted_indices]\n",
        "sorted_importances = importances[sorted_indices]\n",
        "\n",
        "plt.figure(figsize=(8,6))\n",
        "plt.bar(range(len(sorted_feature_names)), sorted_importances, align='center',color='green')\n",
        "plt.xticks(range(len(sorted_feature_names)), sorted_feature_names, rotation=90, fontsize=12, fontweight='bold')\n",
        "plt.xlabel('Feature', fontweight='bold', fontsize=14)\n",
        "plt.ylabel('Feature Importance', fontweight='bold', fontsize=14)\n",
        "plt.title('Random Forest Regression', fontweight='bold', fontsize=16)\n",
        "plt.yticks(fontweight='bold', fontsize=12)\n",
        "plt.gca().grid(False)\n",
        "plt.tight_layout()\n",
        "plt.show()"
      ],
      "metadata": {
        "colab": {
          "base_uri": "https://localhost:8080/",
          "height": 497
        },
        "id": "7TwNSyjrkdjH",
        "outputId": "72c98bf1-c698-4ed1-cc6b-0f1cdd1610c3"
      },
      "execution_count": 21,
      "outputs": [
        {
          "output_type": "display_data",
          "data": {
            "text/plain": [
              "<Figure size 800x600 with 1 Axes>"
            ],
            "image/png": "[encoded data removed]"
          },
          "metadata": {}
        }
      ]
    },
    {
      "cell_type": "code",
      "source": [
        "scaler = joblib.load('scaler.joblib')"
      ],
      "metadata": {
        "id": "0-KB0Skrgnu4"
      },
      "execution_count": 22,
      "outputs": []
    },
    {
      "cell_type": "markdown",
      "source": [
        "**Ext.Test Set**"
      ],
      "metadata": {
        "id": "qWRReZQtg1tx"
      }
    },
    {
      "cell_type": "code",
      "source": [
        "ext_test = pd.read_excel(\"/content/ext_testset.xlsx\")\n",
        "ext_test = ext_test.drop(['ID'], axis=1)"
      ],
      "metadata": {
        "id": "ZV7H69Yxg6ou"
      },
      "execution_count": 23,
      "outputs": []
    },
    {
      "cell_type": "code",
      "source": [
        "ext_test = ext_test.drop([col for col in less_correlated_features], axis=1)"
      ],
      "metadata": {
        "id": "jD9ckJO9h3OY"
      },
      "execution_count": 24,
      "outputs": []
    },
    {
      "cell_type": "code",
      "source": [
        "ext_X = ext_test.dropna()"
      ],
      "metadata": {
        "id": "MXBtdl0xiBf_"
      },
      "execution_count": 25,
      "outputs": []
    },
    {
      "cell_type": "code",
      "source": [
        "ext_X_norm = scaler.transform(ext_X)"
      ],
      "metadata": {
        "id": "TlUL5ayYiDIY"
      },
      "execution_count": 26,
      "outputs": []
    },
    {
      "cell_type": "code",
      "source": [
        "ext_y_pred = best_rfr.predict(ext_X_norm)"
      ],
      "metadata": {
        "id": "9mf5v7REiE5f"
      },
      "execution_count": 27,
      "outputs": []
    },
    {
      "cell_type": "code",
      "source": [
        "ext_y_pred"
      ],
      "metadata": {
        "colab": {
          "base_uri": "https://localhost:8080/"
        },
        "id": "Y9MNqRR7iFzo",
        "outputId": "3e6e595d-9a93-4ff3-8222-063302800083"
      },
      "execution_count": 28,
      "outputs": [
        {
          "output_type": "execute_result",
          "data": {
            "text/plain": [
              "array([1.06232922, 1.63463006])"
            ]
          },
          "metadata": {},
          "execution_count": 28
        }
      ]
    },
    {
      "cell_type": "code",
      "source": [
        "n=len(ext_y_pred)\n",
        "for i in range(0,n):\n",
        "  ee= -1*100*(1-exp(ext_y_pred[i]/0.6))/(1+exp(ext_y_pred[i]/0.6))\n",
        "  print(\"Predicted %ee (external testset-2):\",ee)"
      ],
      "metadata": {
        "colab": {
          "base_uri": "https://localhost:8080/"
        },
        "id": "uXQf8ke1iIqP",
        "outputId": "46de8872-3ef6-4cbe-daae-4ac32315c9b0"
      },
      "execution_count": 29,
      "outputs": [
        {
          "output_type": "stream",
          "name": "stdout",
          "text": [
            "Predicted %ee (external testset-2): 70.9051785972617\n",
            "Predicted %ee (external testset-2): 87.69004291867249\n"
          ]
        }
      ]
    },
    {
      "cell_type": "code",
      "source": [],
      "metadata": {
        "id": "xoaZDjlamlJI"
      },
      "execution_count": 29,
      "outputs": []
    }
  ]
}